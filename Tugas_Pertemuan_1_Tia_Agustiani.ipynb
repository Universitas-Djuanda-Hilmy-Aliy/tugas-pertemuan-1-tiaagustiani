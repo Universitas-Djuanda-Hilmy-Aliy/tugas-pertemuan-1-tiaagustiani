{
  "nbformat": 4,
  "nbformat_minor": 0,
  "metadata": {
    "colab": {
      "provenance": []
    },
    "kernelspec": {
      "name": "python3",
      "display_name": "Python 3"
    },
    "language_info": {
      "name": "python"
    }
  },
  "cells": [
    {
      "cell_type": "markdown",
      "source": [
        "##**Sigma (Penjumlahan)**"
      ],
      "metadata": {
        "id": "Ao13rE4rQRbb"
      }
    },
    {
      "cell_type": "markdown",
      "source": [
        "$$\n",
        "\\sum_{i=1}^{100} 2^{2i+1}.\n",
        "$$"
      ],
      "metadata": {
        "id": "K9JgRRo8O5MC"
      }
    },
    {
      "cell_type": "code",
      "source": [
        "x = 0\n",
        "# iterasi (pengulangan) dari 1 hingga 100\n",
        "for i in range(1,101):\n",
        "    x += 2**(2*i + 1)\n",
        "\n",
        "print(\"Hasil perhitungannya adalah: \", x)"
      ],
      "metadata": {
        "colab": {
          "base_uri": "https://localhost:8080/"
        },
        "id": "z9FLWyQLtzRO",
        "outputId": "6de958d6-8240-4057-b8b1-18c748f38a95"
      },
      "execution_count": 16,
      "outputs": [
        {
          "output_type": "stream",
          "name": "stdout",
          "text": [
            "Hasil perhitungannya adalah:  4285168118023974068111898912909766940059207983420780894137000\n"
          ]
        }
      ]
    },
    {
      "cell_type": "code",
      "source": [
        "x = 0\n",
        "# iterasi (pengulangan) dari 1 hingga 100\n",
        "for i in range(1, 101):\n",
        "    x = x + (2^2*i+1)\n",
        "\n",
        "print(\"Hasil perhitungannya adalah: \", x)"
      ],
      "metadata": {
        "colab": {
          "base_uri": "https://localhost:8080/"
        },
        "id": "9SXvUM5buydq",
        "outputId": "fbec7022-5f07-4944-8e3a-8ebfd34ff678"
      },
      "execution_count": 17,
      "outputs": [
        {
          "output_type": "stream",
          "name": "stdout",
          "text": [
            "Hasil perhitungannya adalah:  10200\n"
          ]
        }
      ]
    },
    {
      "cell_type": "markdown",
      "source": [
        "##**Pi (Perkalian)**"
      ],
      "metadata": {
        "id": "ltaIA_FZQVZY"
      }
    },
    {
      "cell_type": "markdown",
      "source": [
        "$$\n",
        "\\prod_{j=1}^{50} 2j+2.\n",
        "$$"
      ],
      "metadata": {
        "id": "wrQq8fU2PWyY"
      }
    },
    {
      "cell_type": "code",
      "source": [
        "x = 1\n",
        "#iterasi dari 1 hingga 50\n",
        "for j in range(1, 51):\n",
        "    x = x * (2*j + 2)\n",
        "\n",
        "print(\"Hasil perhitungan adalah:\", x)"
      ],
      "metadata": {
        "id": "K4OB2TW9PWYx",
        "colab": {
          "base_uri": "https://localhost:8080/"
        },
        "outputId": "1960cfa3-25e4-42dd-8a72-88e48a918f77"
      },
      "execution_count": 29,
      "outputs": [
        {
          "output_type": "stream",
          "name": "stdout",
          "text": [
            "Hasil perhitungan adalah: 1746404459828110788660568077655617484731052427739679140223698377637888000000000000\n"
          ]
        }
      ]
    },
    {
      "cell_type": "markdown",
      "source": [
        "##**Faktorial**"
      ],
      "metadata": {
        "id": "FeJ78alMQ2Ey"
      }
    },
    {
      "cell_type": "markdown",
      "source": [
        "$$\n",
        "10!\n",
        "$$"
      ],
      "metadata": {
        "id": "rEgK4ed0Qyx2"
      }
    },
    {
      "cell_type": "code",
      "source": [
        "def faktorial(n): #menghitung faktorial dari suatu bilangan n\n",
        "    if n == 0:\n",
        "        return 1 #hasil 1\n",
        "    else:\n",
        "        return n * faktorial(n - 1)\n",
        "\n",
        "hasil_faktorial = faktorial(10)\n",
        "print(\"Hasil dari 10! adalah:\", hasil_faktorial)\n"
      ],
      "metadata": {
        "id": "Mh53IlGdO63e",
        "colab": {
          "base_uri": "https://localhost:8080/"
        },
        "outputId": "4ca6f4c7-1597-420b-92ee-7fd72f1e9bb7"
      },
      "execution_count": 31,
      "outputs": [
        {
          "output_type": "stream",
          "name": "stdout",
          "text": [
            "Hasil dari 10! adalah: 3628800\n"
          ]
        }
      ]
    },
    {
      "cell_type": "markdown",
      "source": [
        "##**Absolute**"
      ],
      "metadata": {
        "id": "smklrzDSRMrq"
      }
    },
    {
      "cell_type": "markdown",
      "source": [
        "$$\n",
        "f(x) = |2x-1|,\n",
        "f(-100)=\n",
        "$$"
      ],
      "metadata": {
        "id": "9QqR9YkrQ-US"
      }
    },
    {
      "cell_type": "code",
      "source": [
        "def f_abs(x):\n",
        "    return abs(2*x - 1)\n",
        "\n",
        "hasil = f_abs(-100)\n",
        "print(\"Hasil perhitungan f(-100) adalah:\", hasil)"
      ],
      "metadata": {
        "id": "8ZWZXhrZRMNZ",
        "colab": {
          "base_uri": "https://localhost:8080/"
        },
        "outputId": "18cf704d-09b0-4221-d510-1edcd4e0bc2e"
      },
      "execution_count": 33,
      "outputs": [
        {
          "output_type": "stream",
          "name": "stdout",
          "text": [
            "Hasil perhitungan f(-100) adalah: 201\n"
          ]
        }
      ]
    },
    {
      "cell_type": "markdown",
      "source": [
        "##**Fungsi Sepotong-sepotong (Piecewise Function)**"
      ],
      "metadata": {
        "id": "M3guYUWsScnY"
      }
    },
    {
      "cell_type": "markdown",
      "source": [
        "$$\n",
        "f(x)=\n",
        "\\begin{cases}\n",
        "x^{2} & \\text{x < 0}, \\\\\n",
        "x+2 & \\text{x >= 0}.\n",
        "\\end{cases}\n",
        "f(3)=\n",
        "$$"
      ],
      "metadata": {
        "id": "sd7LZl_JRlDE"
      }
    },
    {
      "cell_type": "code",
      "source": [
        "def f_piecewise(x):\n",
        "    if x < 0:\n",
        "        return x**2\n",
        "    else:\n",
        "        return x + 2\n",
        "\n",
        "hasil = f_piecewise(3)\n",
        "print(\"Hasil perhitungan f(3) adalah:\", hasil)"
      ],
      "metadata": {
        "id": "dS7XjBWlRv8W",
        "colab": {
          "base_uri": "https://localhost:8080/"
        },
        "outputId": "80d211df-cd53-4890-a8b8-ccaaf1584349"
      },
      "execution_count": 35,
      "outputs": [
        {
          "output_type": "stream",
          "name": "stdout",
          "text": [
            "Hasil perhitungan f(3) adalah: 5\n"
          ]
        }
      ]
    },
    {
      "cell_type": "markdown",
      "source": [
        "##**Matrix**"
      ],
      "metadata": {
        "id": "VvfDI7hNVUoN"
      }
    },
    {
      "cell_type": "markdown",
      "source": [
        "\n",
        "$$\n",
        "\\begin{bmatrix}\n",
        "2 & 3 \\\\\n",
        "1 & 5\n",
        "\\end{bmatrix}\n",
        "*\n",
        "\\begin{bmatrix}\n",
        "7 & 0.5 \\\\\n",
        "4 & 0\n",
        "\\end{bmatrix}\n",
        "$$"
      ],
      "metadata": {
        "id": "JLh40-aAVrSI"
      }
    },
    {
      "cell_type": "code",
      "source": [
        "import numpy as np\n",
        "\n",
        "# matriks pertama\n",
        "matriks1 = np.array([[2, 3],\n",
        "                     [1, 5]])\n",
        "\n",
        "# matriks kedua\n",
        "matriks2 = np.array([[7, 0.5],\n",
        "                     [4, 0]])\n",
        "\n",
        "# perkalian matriks\n",
        "hasil = np.dot(matriks1, matriks2)\n",
        "\n",
        "print(\"Hasil perkalian matriks:\")\n",
        "print(hasil)"
      ],
      "metadata": {
        "id": "L9rh8MqEVr3n",
        "colab": {
          "base_uri": "https://localhost:8080/"
        },
        "outputId": "fd568395-3c01-496a-8c38-9d2a61abf7ba"
      },
      "execution_count": 42,
      "outputs": [
        {
          "output_type": "stream",
          "name": "stdout",
          "text": [
            "Hasil perkalian matriks:\n",
            "[[26.   1. ]\n",
            " [27.   0.5]]\n"
          ]
        }
      ]
    }
  ]
}